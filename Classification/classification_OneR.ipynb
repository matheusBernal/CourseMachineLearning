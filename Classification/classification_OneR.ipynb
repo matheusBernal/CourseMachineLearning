{
 "cells": [
  {
   "cell_type": "code",
   "execution_count": 1,
   "metadata": {},
   "outputs": [],
   "source": [
    "import Orange"
   ]
  },
  {
   "cell_type": "code",
   "execution_count": 2,
   "metadata": {},
   "outputs": [],
   "source": [
    "df_risk_credit_rule = Orange.data.Table('../Bases de dados/risco_credito_regras.csv')"
   ]
  },
  {
   "cell_type": "code",
   "execution_count": 3,
   "metadata": {},
   "outputs": [
    {
     "data": {
      "text/plain": [
       "[[ruim, alta, nenhuma, 0_15 | alto],\n",
       " [desconhecida, alta, nenhuma, 15_35 | alto],\n",
       " [desconhecida, baixa, nenhuma, 15_35 | moderado],\n",
       " [desconhecida, baixa, nenhuma, acima_35 | alto],\n",
       " [desconhecida, baixa, nenhuma, acima_35 | baixo],\n",
       " ...\n",
       "]"
      ]
     },
     "execution_count": 3,
     "metadata": {},
     "output_type": "execute_result"
    }
   ],
   "source": [
    "df_risk_credit_rule.domain\n",
    "df_risk_credit_rule"
   ]
  },
  {
   "cell_type": "code",
   "execution_count": 4,
   "metadata": {},
   "outputs": [],
   "source": [
    "import Orange.classification\n",
    "\n",
    "\n",
    "cn2 = Orange.classification.rules.CN2Learner()\n",
    "rules_risk_credit = cn2(df_risk_credit_rule)"
   ]
  },
  {
   "cell_type": "code",
   "execution_count": 5,
   "metadata": {},
   "outputs": [
    {
     "name": "stdout",
     "output_type": "stream",
     "text": [
      "IF renda==0_15 THEN risco=alto \n",
      "IF historia==boa AND divida!=alta THEN risco=baixo \n",
      "IF historia==boa AND garantias!=nenhuma THEN risco=baixo \n",
      "IF historia==boa AND renda!=15_35 THEN risco=baixo \n",
      "IF historia==boa THEN risco=moderado \n",
      "IF divida==alta THEN risco=alto \n",
      "IF historia!=desconhecida THEN risco=moderado \n",
      "IF garantias==adequada THEN risco=baixo \n",
      "IF renda==15_35 THEN risco=moderado \n",
      "IF historia==desconhecida THEN risco=alto \n",
      "IF TRUE THEN risco=alto \n"
     ]
    }
   ],
   "source": [
    "for rules in rules_risk_credit.rule_list:\n",
    "    print(rules)"
   ]
  },
  {
   "cell_type": "code",
   "execution_count": 6,
   "metadata": {},
   "outputs": [
    {
     "data": {
      "text/plain": [
       "array([1, 0], dtype=int64)"
      ]
     },
     "execution_count": 6,
     "metadata": {},
     "output_type": "execute_result"
    }
   ],
   "source": [
    "prediction_rules = rules_risk_credit([['boa','alta','nenhuma','acima_35'],['ruim','alta','adequada','0_15']])\n",
    "prediction_rules"
   ]
  },
  {
   "cell_type": "code",
   "execution_count": 7,
   "metadata": {},
   "outputs": [
    {
     "data": {
      "text/plain": [
       "('alto', 'baixo', 'moderado')"
      ]
     },
     "execution_count": 7,
     "metadata": {},
     "output_type": "execute_result"
    }
   ],
   "source": [
    "df_risk_credit_rule.domain.class_var.values"
   ]
  },
  {
   "cell_type": "code",
   "execution_count": 8,
   "metadata": {},
   "outputs": [
    {
     "name": "stdout",
     "output_type": "stream",
     "text": [
      "baixo\n",
      "alto\n"
     ]
    }
   ],
   "source": [
    "for i in prediction_rules:\n",
    "    print(df_risk_credit_rule.domain.class_var.values[i])"
   ]
  },
  {
   "cell_type": "code",
   "execution_count": 9,
   "metadata": {},
   "outputs": [
    {
     "name": "stderr",
     "output_type": "stream",
     "text": [
      "<>:1: SyntaxWarning: invalid escape sequence '\\c'\n",
      "<>:1: SyntaxWarning: invalid escape sequence '\\c'\n",
      "C:\\Users\\mbern\\AppData\\Local\\Temp\\ipykernel_11384\\2358339612.py:1: SyntaxWarning: invalid escape sequence '\\c'\n",
      "  df_credit_rule = Orange.data.Table('Bases de dados\\credit_data_regras.csv')\n"
     ]
    }
   ],
   "source": [
    "df_credit_rule = Orange.data.Table('..\\Bases de dados\\credit_data_regras.csv')"
   ]
  },
  {
   "cell_type": "code",
   "execution_count": 10,
   "metadata": {},
   "outputs": [
    {
     "data": {
      "text/plain": [
       "[income, age, loan | default]"
      ]
     },
     "execution_count": 10,
     "metadata": {},
     "output_type": "execute_result"
    }
   ],
   "source": [
    "df_credit_rule.domain"
   ]
  },
  {
   "cell_type": "code",
   "execution_count": 11,
   "metadata": {},
   "outputs": [],
   "source": [
    "import Orange.evaluation\n",
    "\n",
    "\n",
    "df_divid = Orange.evaluation.testing.sample(df_credit_rule,n=0.25)"
   ]
  },
  {
   "cell_type": "code",
   "execution_count": 12,
   "metadata": {},
   "outputs": [
    {
     "data": {
      "text/plain": [
       "([[36126.2, 40.7079, 3805.8 | 0],\n",
       "  [66419, 62.6488, 9340.54 | 0],\n",
       "  [53400.8, 58.0817, 10418.2 | 0],\n",
       "  [52603.9, 43.8955, 2043.09 | 0],\n",
       "  [42697, 44.5297, 222.196 | 0],\n",
       "  ...\n",
       " ],\n",
       " [[55994.5, 31.1393, 680.62 | 0],\n",
       "  [22449.1, 35.7658, 1187.43 | 0],\n",
       "  [52349.9, 35.5225, 5181.85 | 0],\n",
       "  [58693.4, 27.1763, 4033.15 | 0],\n",
       "  [33227.3, 23.149, 6470.41 | 1],\n",
       "  ...\n",
       " ])"
      ]
     },
     "execution_count": 12,
     "metadata": {},
     "output_type": "execute_result"
    }
   ],
   "source": [
    "df_divid"
   ]
  },
  {
   "cell_type": "code",
   "execution_count": 13,
   "metadata": {},
   "outputs": [
    {
     "data": {
      "text/plain": [
       "[[36126.2, 40.7079, 3805.8 | 0],\n",
       " [66419, 62.6488, 9340.54 | 0],\n",
       " [53400.8, 58.0817, 10418.2 | 0],\n",
       " [52603.9, 43.8955, 2043.09 | 0],\n",
       " [42697, 44.5297, 222.196 | 0],\n",
       " ...\n",
       "]"
      ]
     },
     "execution_count": 13,
     "metadata": {},
     "output_type": "execute_result"
    }
   ],
   "source": [
    "df_divid[0]"
   ]
  },
  {
   "cell_type": "code",
   "execution_count": 14,
   "metadata": {},
   "outputs": [
    {
     "data": {
      "text/plain": [
       "[[55994.5, 31.1393, 680.62 | 0],\n",
       " [22449.1, 35.7658, 1187.43 | 0],\n",
       " [52349.9, 35.5225, 5181.85 | 0],\n",
       " [58693.4, 27.1763, 4033.15 | 0],\n",
       " [33227.3, 23.149, 6470.41 | 1],\n",
       " ...\n",
       "]"
      ]
     },
     "execution_count": 14,
     "metadata": {},
     "output_type": "execute_result"
    }
   ],
   "source": [
    "df_divid[1]"
   ]
  },
  {
   "cell_type": "code",
   "execution_count": 15,
   "metadata": {},
   "outputs": [],
   "source": [
    "df_credit_rule_train= df_divid[1]\n",
    "df_credit_rule_test = df_divid[0]"
   ]
  },
  {
   "cell_type": "code",
   "execution_count": 16,
   "metadata": {},
   "outputs": [
    {
     "data": {
      "text/plain": [
       "(1500, 500)"
      ]
     },
     "execution_count": 16,
     "metadata": {},
     "output_type": "execute_result"
    }
   ],
   "source": [
    "len(df_credit_rule_train),len(df_credit_rule_test)"
   ]
  },
  {
   "cell_type": "code",
   "execution_count": 17,
   "metadata": {},
   "outputs": [],
   "source": [
    "import Orange.classification\n",
    "\n",
    "\n",
    "cn2 = Orange.classification.rules.CN2Learner()\n",
    "rules_credit =cn2(df_credit_rule_train)"
   ]
  },
  {
   "cell_type": "code",
   "execution_count": 18,
   "metadata": {},
   "outputs": [
    {
     "name": "stdout",
     "output_type": "stream",
     "text": [
      "IF age>=34.9257164876908 THEN default=0 \n",
      "IF loan<=2495.13299137587 AND income>=20145.9885970689 THEN default=0 \n",
      "IF loan>=7395.513416308141 AND age>=20.6656169872731 THEN default=1 \n",
      "IF age<=18.055874488782102 AND income>=32197.6207010448 THEN default=0 \n",
      "IF income>=46024.1445619613 AND loan>=8092.982779946221 THEN default=1 \n",
      "IF income>=57596.3540980592 THEN default=0 \n",
      "IF loan>=5659.509277874139 AND age>=29.4230185477063 THEN default=1 \n",
      "IF loan>=6043.14310633161 AND loan>=6289.25607587104 THEN default=1 \n",
      "IF income>=50360.6787929311 THEN default=0 \n",
      "IF income<=33489.0398592688 AND loan>=3665.88089899456 THEN default=1 \n",
      "IF income<=22925.8120805025 AND age>=34.7410444347188 THEN default=0 \n",
      "IF income<=24857.6948815025 AND age>=23.238169600255798 THEN default=1 \n",
      "IF loan<=4849.33378471958 AND loan>=4849.33378471958 THEN default=1 \n",
      "IF loan<=4859.2352866332 AND loan>=4859.2352866332 THEN default=1 \n",
      "IF loan<=4999.2020148962 AND loan>=4999.2020148962 THEN default=1 \n",
      "IF loan<=5416.3577980789005 AND loan>=5416.3577980789005 THEN default=1 \n",
      "IF loan<=5502.73603087282 AND income>=38042.0841556042 THEN default=0 \n",
      "IF loan>=4625.19337762744 AND loan>=5785.88427485782 THEN default=1 \n",
      "IF loan<=3105.4430213977303 AND income>=27407.056202646298 THEN default=0 \n",
      "IF income>=48430.3596126847 THEN default=0 \n",
      "IF income>=37887.5493933447 THEN default=1 \n",
      "IF loan>=5233.66322803221 THEN default=1 \n",
      "IF income>=29775.1422203146 THEN default=0 \n",
      "IF income>=25640.0788831525 THEN default=1 \n",
      "IF income>=24857.6948815025 THEN default=0 \n",
      "IF income<=21217.7474563941 THEN default=1 \n",
      "IF TRUE THEN default=0 \n"
     ]
    }
   ],
   "source": [
    "for rule in rules_credit.rule_list :\n",
    "    print(rule)"
   ]
  },
  {
   "cell_type": "code",
   "execution_count": 19,
   "metadata": {},
   "outputs": [],
   "source": [
    "import Orange.evaluation\n",
    "\n",
    "\n",
    "prediction_rules_credit = Orange.evaluation.testing.TestOnTestData(df_credit_rule_train,df_credit_rule_test,[lambda test_data: rules_credit])"
   ]
  },
  {
   "cell_type": "code",
   "execution_count": 20,
   "metadata": {},
   "outputs": [
    {
     "data": {
      "text/plain": [
       "<Orange.evaluation.testing.Results at 0x278019b0a70>"
      ]
     },
     "execution_count": 20,
     "metadata": {},
     "output_type": "execute_result"
    }
   ],
   "source": [
    "prediction_rules_credit"
   ]
  },
  {
   "cell_type": "code",
   "execution_count": 21,
   "metadata": {},
   "outputs": [
    {
     "data": {
      "text/plain": [
       "array([0.988])"
      ]
     },
     "execution_count": 21,
     "metadata": {},
     "output_type": "execute_result"
    }
   ],
   "source": [
    "Orange.evaluation.CA(prediction_rules_credit) #98.4"
   ]
  },
  {
   "cell_type": "code",
   "execution_count": null,
   "metadata": {},
   "outputs": [],
   "source": []
  }
 ],
 "metadata": {
  "kernelspec": {
   "display_name": ".venv",
   "language": "python",
   "name": "python3"
  },
  "language_info": {
   "codemirror_mode": {
    "name": "ipython",
    "version": 3
   },
   "file_extension": ".py",
   "mimetype": "text/x-python",
   "name": "python",
   "nbconvert_exporter": "python",
   "pygments_lexer": "ipython3",
   "version": "3.12.6"
  }
 },
 "nbformat": 4,
 "nbformat_minor": 2
}
