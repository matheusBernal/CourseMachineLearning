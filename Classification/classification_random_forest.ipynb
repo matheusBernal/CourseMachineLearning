{
 "cells": [
  {
   "cell_type": "code",
   "execution_count": 8,
   "metadata": {},
   "outputs": [],
   "source": [
    "import pandas as pd\n",
    "import matplotlib.pyplot as mpl\n",
    "import numpy as np\n",
    "from sklearn.preprocessing import StandardScaler,LabelEncoder,OneHotEncoder\n",
    "from sklearn.compose import ColumnTransformer\n",
    "from sklearn.model_selection import train_test_split\n",
    "from sklearn.naive_bayes import GaussianNB\n",
    "from sklearn.metrics import accuracy_score, confusion_matrix, classification_report\n",
    "import seaborn as sbn\n",
    "import plotly.express as px\n",
    "import pickle"
   ]
  },
  {
   "cell_type": "code",
   "execution_count": 9,
   "metadata": {},
   "outputs": [],
   "source": [
    "with open('x_credit.plk','rb') as f:\n",
    "    x_credit_test,y_credit_test,x_credit_train,y_credit_train = pickle.load(f)"
   ]
  },
  {
   "cell_type": "code",
   "execution_count": 11,
   "metadata": {},
   "outputs": [],
   "source": [
    "with open('x_census.plk','rb') as c:\n",
    "    x_census_test,y_census_test,x_census_train,y_census_train = pickle.load(c)"
   ]
  },
  {
   "cell_type": "code",
   "execution_count": 12,
   "metadata": {},
   "outputs": [],
   "source": [
    "from sklearn.ensemble import RandomForestClassifier\n"
   ]
  },
  {
   "cell_type": "code",
   "execution_count": 42,
   "metadata": {},
   "outputs": [
    {
     "name": "stdout",
     "output_type": "stream",
     "text": [
      "0.9673333333333334\n",
      "              precision    recall  f1-score   support\n",
      "\n",
      "           0       0.98      0.98      0.98      1281\n",
      "           1       0.89      0.88      0.89       219\n",
      "\n",
      "    accuracy                           0.97      1500\n",
      "   macro avg       0.94      0.93      0.93      1500\n",
      "weighted avg       0.97      0.97      0.97      1500\n",
      "\n"
     ]
    }
   ],
   "source": [
    "randomForest_credit = RandomForestClassifier(n_estimators=40,criterion='entropy',random_state=0)\n",
    "randomForest_credit.fit(x_credit_train,y_credit_train)\n",
    "predict_random_forest = randomForest_credit.predict(x_credit_test)\n",
    "print(accuracy_score(y_credit_test,predict_random_forest))\n",
    "print(classification_report(y_credit_test,predict_random_forest))"
   ]
  },
  {
   "cell_type": "code",
   "execution_count": 48,
   "metadata": {},
   "outputs": [
    {
     "name": "stdout",
     "output_type": "stream",
     "text": [
      "0.8535162247927116\n",
      "              precision    recall  f1-score   support\n",
      "\n",
      "       <=50K       0.89      0.93      0.91      7407\n",
      "        >50K       0.73      0.63      0.67      2362\n",
      "\n",
      "    accuracy                           0.85      9769\n",
      "   macro avg       0.81      0.78      0.79      9769\n",
      "weighted avg       0.85      0.85      0.85      9769\n",
      "\n"
     ]
    }
   ],
   "source": [
    "randomForest_census = RandomForestClassifier(n_estimators=100,criterion='entropy',random_state=0)\n",
    "randomForest_census.fit(x_census_train,y_census_train)\n",
    "predict_random_forest_census = randomForest_census.predict(x_census_test)\n",
    "print(accuracy_score(y_census_test,predict_random_forest_census))\n",
    "print(classification_report(y_census_test,predict_random_forest_census))"
   ]
  }
 ],
 "metadata": {
  "kernelspec": {
   "display_name": ".venv",
   "language": "python",
   "name": "python3"
  },
  "language_info": {
   "codemirror_mode": {
    "name": "ipython",
    "version": 3
   },
   "file_extension": ".py",
   "mimetype": "text/x-python",
   "name": "python",
   "nbconvert_exporter": "python",
   "pygments_lexer": "ipython3",
   "version": "3.12.6"
  }
 },
 "nbformat": 4,
 "nbformat_minor": 2
}
