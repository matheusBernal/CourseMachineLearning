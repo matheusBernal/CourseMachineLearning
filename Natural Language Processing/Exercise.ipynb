{
 "cells": [
  {
   "cell_type": "code",
   "execution_count": 107,
   "metadata": {},
   "outputs": [],
   "source": [
    "import spacy\n",
    "import pandas as pd\n",
    "import numpy as np\n",
    "import matplotlib.pyplot as plt\n",
    "import seaborn as sns\n",
    "from spacy.lang.pt.stop_words import STOP_WORDS\n",
    "import string\n",
    "import en_core_web_sm\n",
    "import random\n",
    "import re\n",
    "from spacy.training import Example\n",
    "from sklearn.metrics import accuracy_score"
   ]
  },
  {
   "cell_type": "code",
   "execution_count": 108,
   "metadata": {},
   "outputs": [],
   "source": [
    "pln = en_core_web_sm.load()"
   ]
  },
  {
   "cell_type": "code",
   "execution_count": 109,
   "metadata": {},
   "outputs": [],
   "source": [
    "df_train = pd.read_csv('../Bases de dados/Train50.csv', sep=';')\n",
    "df_train.columns = df_train.columns.str.strip()\n"
   ]
  },
  {
   "cell_type": "code",
   "execution_count": 110,
   "metadata": {},
   "outputs": [],
   "source": [
    "stop_word = STOP_WORDS"
   ]
  },
  {
   "cell_type": "code",
   "execution_count": 111,
   "metadata": {},
   "outputs": [],
   "source": [
    "punctations = string.punctuation"
   ]
  },
  {
   "cell_type": "code",
   "execution_count": 112,
   "metadata": {},
   "outputs": [
    {
     "data": {
      "text/html": [
       "<div>\n",
       "<style scoped>\n",
       "    .dataframe tbody tr th:only-of-type {\n",
       "        vertical-align: middle;\n",
       "    }\n",
       "\n",
       "    .dataframe tbody tr th {\n",
       "        vertical-align: top;\n",
       "    }\n",
       "\n",
       "    .dataframe thead th {\n",
       "        text-align: right;\n",
       "    }\n",
       "</style>\n",
       "<table border=\"1\" class=\"dataframe\">\n",
       "  <thead>\n",
       "    <tr style=\"text-align: right;\">\n",
       "      <th></th>\n",
       "      <th>tweet_text</th>\n",
       "      <th>sentiment</th>\n",
       "    </tr>\n",
       "  </thead>\n",
       "  <tbody>\n",
       "    <tr>\n",
       "      <th>0</th>\n",
       "      <td>@Laranjito76 A pessoa certa para isso seria o ...</td>\n",
       "      <td>1</td>\n",
       "    </tr>\n",
       "    <tr>\n",
       "      <th>1</th>\n",
       "      <td>@behin_d_curtain Para mim, é precisamente o co...</td>\n",
       "      <td>1</td>\n",
       "    </tr>\n",
       "    <tr>\n",
       "      <th>2</th>\n",
       "      <td>Vou fazer um video hoje... estou pensando em f...</td>\n",
       "      <td>1</td>\n",
       "    </tr>\n",
       "    <tr>\n",
       "      <th>3</th>\n",
       "      <td>aaaaaaaa amei tanto essas polaroids, nem sei e...</td>\n",
       "      <td>1</td>\n",
       "    </tr>\n",
       "    <tr>\n",
       "      <th>4</th>\n",
       "      <td>Valoriza o coração do menininho que vc tem. El...</td>\n",
       "      <td>1</td>\n",
       "    </tr>\n",
       "    <tr>\n",
       "      <th>...</th>\n",
       "      <td>...</td>\n",
       "      <td>...</td>\n",
       "    </tr>\n",
       "    <tr>\n",
       "      <th>49995</th>\n",
       "      <td>:( é tão lindo que dói https://t.co/GqnpgyWWxB</td>\n",
       "      <td>0</td>\n",
       "    </tr>\n",
       "    <tr>\n",
       "      <th>49996</th>\n",
       "      <td>@veraluciarj Pois é.. tenho problema c/ \"coisa...</td>\n",
       "      <td>0</td>\n",
       "    </tr>\n",
       "    <tr>\n",
       "      <th>49997</th>\n",
       "      <td>eu te amo tanto minja vidinha meu bem mais pre...</td>\n",
       "      <td>0</td>\n",
       "    </tr>\n",
       "    <tr>\n",
       "      <th>49998</th>\n",
       "      <td>@itsLary @jessboluda Pfvor :(</td>\n",
       "      <td>0</td>\n",
       "    </tr>\n",
       "    <tr>\n",
       "      <th>49999</th>\n",
       "      <td>@Renk_lol Passa ano Entra ano Eu nao desisto d...</td>\n",
       "      <td>0</td>\n",
       "    </tr>\n",
       "  </tbody>\n",
       "</table>\n",
       "<p>50000 rows × 2 columns</p>\n",
       "</div>"
      ],
      "text/plain": [
       "                                              tweet_text  sentiment\n",
       "0      @Laranjito76 A pessoa certa para isso seria o ...          1\n",
       "1      @behin_d_curtain Para mim, é precisamente o co...          1\n",
       "2      Vou fazer um video hoje... estou pensando em f...          1\n",
       "3      aaaaaaaa amei tanto essas polaroids, nem sei e...          1\n",
       "4      Valoriza o coração do menininho que vc tem. El...          1\n",
       "...                                                  ...        ...\n",
       "49995     :( é tão lindo que dói https://t.co/GqnpgyWWxB          0\n",
       "49996  @veraluciarj Pois é.. tenho problema c/ \"coisa...          0\n",
       "49997  eu te amo tanto minja vidinha meu bem mais pre...          0\n",
       "49998                      @itsLary @jessboluda Pfvor :(          0\n",
       "49999  @Renk_lol Passa ano Entra ano Eu nao desisto d...          0\n",
       "\n",
       "[50000 rows x 2 columns]"
      ]
     },
     "execution_count": 112,
     "metadata": {},
     "output_type": "execute_result"
    }
   ],
   "source": [
    "df_train.drop(columns=['id','tweet_date','query_used'],axis=1, inplace=True)\n",
    "df_train"
   ]
  },
  {
   "cell_type": "code",
   "execution_count": 113,
   "metadata": {},
   "outputs": [],
   "source": [
    "def preprocessing(text):\n",
    "    word=[]\n",
    "    new_text = text.lower()\n",
    "    new_text = re.sub(r\"@[A-Za-z0-9$-_@.&+]+\", ' ', new_text)\n",
    "    new_text = re.sub(r\"https?://[A-Za-z0-9./]+\", ' ', new_text)\n",
    "    new_text = re.sub(r\" +\", ' ', new_text)\n",
    "    list_emotions = {':)': 'emocaopositiva',\n",
    "                   ':d': 'emocaopositiva',\n",
    "                   ':(': 'emocaonegativa'}\n",
    "    for emocao in list_emotions:\n",
    "       new_text = new_text.replace(emocao, list_emotions[emocao])\n",
    "     \n",
    "    new_text_doc = pln(new_text)\n",
    "    for t in new_text_doc:\n",
    "         word.append(t.lemma_)\n",
    "    word =[w for w in word if w not in stop_word and w not in punctations]\n",
    "    word = ' '.join([str(element) for element in word if not element.isdigit()])\n",
    "\n",
    "    return word"
   ]
  },
  {
   "cell_type": "code",
   "execution_count": 114,
   "metadata": {},
   "outputs": [
    {
     "data": {
      "text/plain": [
       "'  pessoa certa vale azevedo emocaopositiva'"
      ]
     },
     "execution_count": 114,
     "metadata": {},
     "output_type": "execute_result"
    }
   ],
   "source": [
    "result_test = preprocessing('@Laranjito76 A pessoa certa para isso seria o vale e azevedo :)')\n",
    "result_test"
   ]
  },
  {
   "cell_type": "code",
   "execution_count": 115,
   "metadata": {},
   "outputs": [
    {
     "data": {
      "text/html": [
       "<div>\n",
       "<style scoped>\n",
       "    .dataframe tbody tr th:only-of-type {\n",
       "        vertical-align: middle;\n",
       "    }\n",
       "\n",
       "    .dataframe tbody tr th {\n",
       "        vertical-align: top;\n",
       "    }\n",
       "\n",
       "    .dataframe thead th {\n",
       "        text-align: right;\n",
       "    }\n",
       "</style>\n",
       "<table border=\"1\" class=\"dataframe\">\n",
       "  <thead>\n",
       "    <tr style=\"text-align: right;\">\n",
       "      <th></th>\n",
       "      <th>tweet_text</th>\n",
       "      <th>sentiment</th>\n",
       "    </tr>\n",
       "  </thead>\n",
       "  <tbody>\n",
       "    <tr>\n",
       "      <th>0</th>\n",
       "      <td>pessoa certa vale azevedo emocaopositiva</td>\n",
       "      <td>1</td>\n",
       "    </tr>\n",
       "    <tr>\n",
       "      <th>1</th>\n",
       "      <td>mim precisamente contrário emocaopositiva ch...</td>\n",
       "      <td>1</td>\n",
       "    </tr>\n",
       "    <tr>\n",
       "      <th>2</th>\n",
       "      <td>vou video hoje ... pensando falar meta csgo pa...</td>\n",
       "      <td>1</td>\n",
       "    </tr>\n",
       "    <tr>\n",
       "      <th>3</th>\n",
       "      <td>aaaaaaaa amei polaroid expressar to apaixonada...</td>\n",
       "      <td>1</td>\n",
       "    </tr>\n",
       "    <tr>\n",
       "      <th>4</th>\n",
       "      <td>valoriza coração menininho vc diferente faça s...</td>\n",
       "      <td>1</td>\n",
       "    </tr>\n",
       "    <tr>\n",
       "      <th>...</th>\n",
       "      <td>...</td>\n",
       "      <td>...</td>\n",
       "    </tr>\n",
       "    <tr>\n",
       "      <th>49995</th>\n",
       "      <td>emocaonegativa lindo dói</td>\n",
       "      <td>0</td>\n",
       "    </tr>\n",
       "    <tr>\n",
       "      <th>49996</th>\n",
       "      <td>.. problema c/ coisas .. toc emocaonegativa ...</td>\n",
       "      <td>0</td>\n",
       "    </tr>\n",
       "    <tr>\n",
       "      <th>49997</th>\n",
       "      <td>amo minja vidinha precioso I desculpa péssima ...</td>\n",
       "      <td>0</td>\n",
       "    </tr>\n",
       "    <tr>\n",
       "      <th>49998</th>\n",
       "      <td>pfvor emocaonegativa</td>\n",
       "      <td>0</td>\n",
       "    </tr>\n",
       "    <tr>\n",
       "      <th>49999</th>\n",
       "      <td>passa ano entra ano nao desisto emocaonegativa</td>\n",
       "      <td>0</td>\n",
       "    </tr>\n",
       "  </tbody>\n",
       "</table>\n",
       "<p>50000 rows × 2 columns</p>\n",
       "</div>"
      ],
      "text/plain": [
       "                                              tweet_text  sentiment\n",
       "0               pessoa certa vale azevedo emocaopositiva          1\n",
       "1        mim precisamente contrário emocaopositiva ch...          1\n",
       "2      vou video hoje ... pensando falar meta csgo pa...          1\n",
       "3      aaaaaaaa amei polaroid expressar to apaixonada...          1\n",
       "4      valoriza coração menininho vc diferente faça s...          1\n",
       "...                                                  ...        ...\n",
       "49995                           emocaonegativa lindo dói          0\n",
       "49996    .. problema c/ coisas .. toc emocaonegativa ...          0\n",
       "49997  amo minja vidinha precioso I desculpa péssima ...          0\n",
       "49998                               pfvor emocaonegativa          0\n",
       "49999     passa ano entra ano nao desisto emocaonegativa          0\n",
       "\n",
       "[50000 rows x 2 columns]"
      ]
     },
     "execution_count": 115,
     "metadata": {},
     "output_type": "execute_result"
    }
   ],
   "source": [
    "df_train['tweet_text'] = df_train['tweet_text'].apply(preprocessing)\n",
    "df_train"
   ]
  },
  {
   "cell_type": "code",
   "execution_count": 116,
   "metadata": {},
   "outputs": [],
   "source": [
    "list_new_data=[]\n",
    "for t,e in zip(df_train['tweet_text'],df_train['sentiment']):\n",
    "        if e == 1:\n",
    "            dic = {'POSITIVO':True, 'NEGATIVO':False}\n",
    "        else:\n",
    "            dic = {'POSITIVO':False, 'NEGATIVO':True}\n",
    "        list_new_data.append([t,dic.copy()])"
   ]
  },
  {
   "cell_type": "code",
   "execution_count": 117,
   "metadata": {},
   "outputs": [
    {
     "data": {
      "text/plain": [
       "[['simplesmente coisas I deixam chateada coisas muitooo I iludir emocaopositiva',\n",
       "  {'POSITIVO': True, 'NEGATIVO': False}],\n",
       " ['começa rotina perfeitamente consolidar escola condução :p',\n",
       "  {'POSITIVO': True, 'NEGATIVO': False}],\n",
       " ['amigo apaixonado vc — recíproco emocaopositiva',\n",
       "  {'POSITIVO': True, 'NEGATIVO': False}],\n",
       " ['  gajo bacano vê I aleijas espero silva sejam felize emocaopositiva',\n",
       "  {'POSITIVO': True, 'NEGATIVO': False}],\n",
       " ['tou video cabrinhas bebés emocaopositiva',\n",
       "  {'POSITIVO': True, 'NEGATIVO': False}]]"
      ]
     },
     "execution_count": 117,
     "metadata": {},
     "output_type": "execute_result"
    }
   ],
   "source": [
    "len(list_new_data)\n",
    "list_new_data[10:15]"
   ]
  },
  {
   "cell_type": "code",
   "execution_count": 118,
   "metadata": {},
   "outputs": [],
   "source": [
    "model = spacy.blank('pt')\n",
    "categori =model.add_pipe('textcat')\n",
    "categori.add_label('POSITIVO')\n",
    "categori.add_label('NEGATIVO')\n",
    "historic=[]"
   ]
  },
  {
   "cell_type": "code",
   "execution_count": 119,
   "metadata": {},
   "outputs": [
    {
     "name": "stdout",
     "output_type": "stream",
     "text": [
      "{'textcat': 1.7926174741767227}\n"
     ]
    }
   ],
   "source": [
    "model.initialize()\n",
    "list_predict=[]\n",
    "\n",
    "for era in range(5):\n",
    "    random.shuffle(list_new_data)\n",
    "    losses={}\n",
    "    for batch in spacy.util.minibatch(list_new_data,512):\n",
    "        text=[model(text) for text, entities in batch]\n",
    "        annotations = [{'cats': entities} for text, entities in batch]\n",
    "        examples = [Example.from_dict(doc, annotation) for doc, annotation in zip(\n",
    "            text, annotations\n",
    "        )]\n",
    "        model.update(examples, losses=losses)\n",
    "        historic.append(losses)\n",
    "    if era % 5 == 0:\n",
    "        print(losses)\n"
   ]
  },
  {
   "cell_type": "code",
   "execution_count": 120,
   "metadata": {},
   "outputs": [],
   "source": [
    "historic_loss = []\n",
    "for i in historic:\n",
    "  historic_loss.append(i.get('textcat'))"
   ]
  },
  {
   "cell_type": "code",
   "execution_count": 121,
   "metadata": {},
   "outputs": [],
   "source": [
    "historic_loss = np.array(historic_loss)"
   ]
  },
  {
   "cell_type": "code",
   "execution_count": 122,
   "metadata": {},
   "outputs": [
    {
     "data": {
      "text/plain": [
       "array([1.79261747, 1.79261747, 1.79261747, 1.79261747, 1.79261747,\n",
       "       1.79261747, 1.79261747, 1.79261747, 1.79261747, 1.79261747,\n",
       "       1.79261747, 1.79261747, 1.79261747, 1.79261747, 1.79261747,\n",
       "       1.79261747, 1.79261747, 1.79261747, 1.79261747, 1.79261747,\n",
       "       1.79261747, 1.79261747, 1.79261747, 1.79261747, 1.79261747,\n",
       "       1.79261747, 1.79261747, 1.79261747, 1.79261747, 1.79261747,\n",
       "       1.79261747, 1.79261747, 1.79261747, 1.79261747, 1.79261747,\n",
       "       1.79261747, 1.79261747, 1.79261747, 1.79261747, 1.79261747,\n",
       "       1.79261747, 1.79261747, 1.79261747, 1.79261747, 1.79261747,\n",
       "       1.79261747, 1.79261747, 1.79261747, 1.79261747, 1.79261747,\n",
       "       1.79261747, 1.79261747, 1.79261747, 1.79261747, 1.79261747,\n",
       "       1.79261747, 1.79261747, 1.79261747, 1.79261747, 1.79261747,\n",
       "       1.79261747, 1.79261747, 1.79261747, 1.79261747, 1.79261747,\n",
       "       1.79261747, 1.79261747, 1.79261747, 1.79261747, 1.79261747,\n",
       "       1.79261747, 1.79261747, 1.79261747, 1.79261747, 1.79261747,\n",
       "       1.79261747, 1.79261747, 1.79261747, 1.79261747, 1.79261747,\n",
       "       1.79261747, 1.79261747, 1.79261747, 1.79261747, 1.79261747,\n",
       "       1.79261747, 1.79261747, 1.79261747, 1.79261747, 1.79261747,\n",
       "       1.79261747, 1.79261747, 1.79261747, 1.79261747, 1.79261747,\n",
       "       1.79261747, 1.79261747, 1.79261747, 0.07192389, 0.07192389,\n",
       "       0.07192389, 0.07192389, 0.07192389, 0.07192389, 0.07192389,\n",
       "       0.07192389, 0.07192389, 0.07192389, 0.07192389, 0.07192389,\n",
       "       0.07192389, 0.07192389, 0.07192389, 0.07192389, 0.07192389,\n",
       "       0.07192389, 0.07192389, 0.07192389, 0.07192389, 0.07192389,\n",
       "       0.07192389, 0.07192389, 0.07192389, 0.07192389, 0.07192389,\n",
       "       0.07192389, 0.07192389, 0.07192389, 0.07192389, 0.07192389,\n",
       "       0.07192389, 0.07192389, 0.07192389, 0.07192389, 0.07192389,\n",
       "       0.07192389, 0.07192389, 0.07192389, 0.07192389, 0.07192389,\n",
       "       0.07192389, 0.07192389, 0.07192389, 0.07192389, 0.07192389,\n",
       "       0.07192389, 0.07192389, 0.07192389, 0.07192389, 0.07192389,\n",
       "       0.07192389, 0.07192389, 0.07192389, 0.07192389, 0.07192389,\n",
       "       0.07192389, 0.07192389, 0.07192389, 0.07192389, 0.07192389,\n",
       "       0.07192389, 0.07192389, 0.07192389, 0.07192389, 0.07192389,\n",
       "       0.07192389, 0.07192389, 0.07192389, 0.07192389, 0.07192389,\n",
       "       0.07192389, 0.07192389, 0.07192389, 0.07192389, 0.07192389,\n",
       "       0.07192389, 0.07192389, 0.07192389, 0.07192389, 0.07192389,\n",
       "       0.07192389, 0.07192389, 0.07192389, 0.07192389, 0.07192389,\n",
       "       0.07192389, 0.07192389, 0.07192389, 0.07192389, 0.07192389,\n",
       "       0.07192389, 0.07192389, 0.07192389, 0.07192389, 0.07192389,\n",
       "       0.07192389, 0.01259672, 0.01259672, 0.01259672, 0.01259672,\n",
       "       0.01259672, 0.01259672, 0.01259672, 0.01259672, 0.01259672,\n",
       "       0.01259672, 0.01259672, 0.01259672, 0.01259672, 0.01259672,\n",
       "       0.01259672, 0.01259672, 0.01259672, 0.01259672, 0.01259672,\n",
       "       0.01259672, 0.01259672, 0.01259672, 0.01259672, 0.01259672,\n",
       "       0.01259672, 0.01259672, 0.01259672, 0.01259672, 0.01259672,\n",
       "       0.01259672, 0.01259672, 0.01259672, 0.01259672, 0.01259672,\n",
       "       0.01259672, 0.01259672, 0.01259672, 0.01259672, 0.01259672,\n",
       "       0.01259672, 0.01259672, 0.01259672, 0.01259672, 0.01259672,\n",
       "       0.01259672, 0.01259672, 0.01259672, 0.01259672, 0.01259672,\n",
       "       0.01259672, 0.01259672, 0.01259672, 0.01259672, 0.01259672,\n",
       "       0.01259672, 0.01259672, 0.01259672, 0.01259672, 0.01259672,\n",
       "       0.01259672, 0.01259672, 0.01259672, 0.01259672, 0.01259672,\n",
       "       0.01259672, 0.01259672, 0.01259672, 0.01259672, 0.01259672,\n",
       "       0.01259672, 0.01259672, 0.01259672, 0.01259672, 0.01259672,\n",
       "       0.01259672, 0.01259672, 0.01259672, 0.01259672, 0.01259672,\n",
       "       0.01259672, 0.01259672, 0.01259672, 0.01259672, 0.01259672,\n",
       "       0.01259672, 0.01259672, 0.01259672, 0.01259672, 0.01259672,\n",
       "       0.01259672, 0.01259672, 0.01259672, 0.01259672, 0.01259672,\n",
       "       0.01259672, 0.01259672, 0.01259672, 0.01259672, 0.00294004,\n",
       "       0.00294004, 0.00294004, 0.00294004, 0.00294004, 0.00294004,\n",
       "       0.00294004, 0.00294004, 0.00294004, 0.00294004, 0.00294004,\n",
       "       0.00294004, 0.00294004, 0.00294004, 0.00294004, 0.00294004,\n",
       "       0.00294004, 0.00294004, 0.00294004, 0.00294004, 0.00294004,\n",
       "       0.00294004, 0.00294004, 0.00294004, 0.00294004, 0.00294004,\n",
       "       0.00294004, 0.00294004, 0.00294004, 0.00294004, 0.00294004,\n",
       "       0.00294004, 0.00294004, 0.00294004, 0.00294004, 0.00294004,\n",
       "       0.00294004, 0.00294004, 0.00294004, 0.00294004, 0.00294004,\n",
       "       0.00294004, 0.00294004, 0.00294004, 0.00294004, 0.00294004,\n",
       "       0.00294004, 0.00294004, 0.00294004, 0.00294004, 0.00294004,\n",
       "       0.00294004, 0.00294004, 0.00294004, 0.00294004, 0.00294004,\n",
       "       0.00294004, 0.00294004, 0.00294004, 0.00294004, 0.00294004,\n",
       "       0.00294004, 0.00294004, 0.00294004, 0.00294004, 0.00294004,\n",
       "       0.00294004, 0.00294004, 0.00294004, 0.00294004, 0.00294004,\n",
       "       0.00294004, 0.00294004, 0.00294004, 0.00294004, 0.00294004,\n",
       "       0.00294004, 0.00294004, 0.00294004, 0.00294004, 0.00294004,\n",
       "       0.00294004, 0.00294004, 0.00294004, 0.00294004, 0.00294004,\n",
       "       0.00294004, 0.00294004, 0.00294004, 0.00294004, 0.00294004,\n",
       "       0.00294004, 0.00294004, 0.00294004, 0.00294004, 0.00294004,\n",
       "       0.00294004, 0.00294004, 0.00324323, 0.00324323, 0.00324323,\n",
       "       0.00324323, 0.00324323, 0.00324323, 0.00324323, 0.00324323,\n",
       "       0.00324323, 0.00324323, 0.00324323, 0.00324323, 0.00324323,\n",
       "       0.00324323, 0.00324323, 0.00324323, 0.00324323, 0.00324323,\n",
       "       0.00324323, 0.00324323, 0.00324323, 0.00324323, 0.00324323,\n",
       "       0.00324323, 0.00324323, 0.00324323, 0.00324323, 0.00324323,\n",
       "       0.00324323, 0.00324323, 0.00324323, 0.00324323, 0.00324323,\n",
       "       0.00324323, 0.00324323, 0.00324323, 0.00324323, 0.00324323,\n",
       "       0.00324323, 0.00324323, 0.00324323, 0.00324323, 0.00324323,\n",
       "       0.00324323, 0.00324323, 0.00324323, 0.00324323, 0.00324323,\n",
       "       0.00324323, 0.00324323, 0.00324323, 0.00324323, 0.00324323,\n",
       "       0.00324323, 0.00324323, 0.00324323, 0.00324323, 0.00324323,\n",
       "       0.00324323, 0.00324323, 0.00324323, 0.00324323, 0.00324323,\n",
       "       0.00324323, 0.00324323, 0.00324323, 0.00324323, 0.00324323,\n",
       "       0.00324323, 0.00324323, 0.00324323, 0.00324323, 0.00324323,\n",
       "       0.00324323, 0.00324323, 0.00324323, 0.00324323, 0.00324323,\n",
       "       0.00324323, 0.00324323, 0.00324323, 0.00324323, 0.00324323,\n",
       "       0.00324323, 0.00324323, 0.00324323, 0.00324323, 0.00324323,\n",
       "       0.00324323, 0.00324323, 0.00324323, 0.00324323, 0.00324323,\n",
       "       0.00324323, 0.00324323, 0.00324323, 0.00324323, 0.00324323])"
      ]
     },
     "execution_count": 122,
     "metadata": {},
     "output_type": "execute_result"
    }
   ],
   "source": [
    "historic_loss"
   ]
  },
  {
   "cell_type": "code",
   "execution_count": 123,
   "metadata": {},
   "outputs": [
    {
     "data": {
      "text/plain": [
       "Text(0, 0.5, 'Error')"
      ]
     },
     "execution_count": 123,
     "metadata": {},
     "output_type": "execute_result"
    },
    {
     "data": {
      "image/png": "[encoded data removed]",
      "text/plain": [
       "<Figure size 640x480 with 1 Axes>"
      ]
     },
     "metadata": {},
     "output_type": "display_data"
    }
   ],
   "source": [
    "import matplotlib.pyplot as plt\n",
    "plt.plot(historic_loss)\n",
    "plt.title('Progression do error')\n",
    "plt.xlabel('Batches')\n",
    "plt.ylabel('Error')"
   ]
  },
  {
   "cell_type": "code",
   "execution_count": 124,
   "metadata": {},
   "outputs": [
    {
     "data": {
      "text/html": [
       "<div>\n",
       "<style scoped>\n",
       "    .dataframe tbody tr th:only-of-type {\n",
       "        vertical-align: middle;\n",
       "    }\n",
       "\n",
       "    .dataframe tbody tr th {\n",
       "        vertical-align: top;\n",
       "    }\n",
       "\n",
       "    .dataframe thead th {\n",
       "        text-align: right;\n",
       "    }\n",
       "</style>\n",
       "<table border=\"1\" class=\"dataframe\">\n",
       "  <thead>\n",
       "    <tr style=\"text-align: right;\">\n",
       "      <th></th>\n",
       "      <th>tweet_text</th>\n",
       "      <th>sentiment</th>\n",
       "    </tr>\n",
       "  </thead>\n",
       "  <tbody>\n",
       "    <tr>\n",
       "      <th>0</th>\n",
       "      <td>@Gazo1a Nossa! Muito obrigada :)</td>\n",
       "      <td>1</td>\n",
       "    </tr>\n",
       "    <tr>\n",
       "      <th>1</th>\n",
       "      <td>@BerzGamer vai pa puta que te pariu :)</td>\n",
       "      <td>1</td>\n",
       "    </tr>\n",
       "    <tr>\n",
       "      <th>2</th>\n",
       "      <td>QUER MAIS DESCONTOS? (14/08) ⭐⭐⭐⭐⭐ 🌐 Confira n...</td>\n",
       "      <td>1</td>\n",
       "    </tr>\n",
       "    <tr>\n",
       "      <th>3</th>\n",
       "      <td>EU VOU PEGAR VCS, ME AJUDEM GALERA, PELO AMOR ...</td>\n",
       "      <td>1</td>\n",
       "    </tr>\n",
       "    <tr>\n",
       "      <th>4</th>\n",
       "      <td>Estávamos em casa do Zé e eu estava a morrer d...</td>\n",
       "      <td>1</td>\n",
       "    </tr>\n",
       "    <tr>\n",
       "      <th>...</th>\n",
       "      <td>...</td>\n",
       "      <td>...</td>\n",
       "    </tr>\n",
       "    <tr>\n",
       "      <th>4995</th>\n",
       "      <td>@ol_cdanilo parece livro de autoajuda :(</td>\n",
       "      <td>0</td>\n",
       "    </tr>\n",
       "    <tr>\n",
       "      <th>4996</th>\n",
       "      <td>@tatazoquita aaaaa sinto muito :((</td>\n",
       "      <td>0</td>\n",
       "    </tr>\n",
       "    <tr>\n",
       "      <th>4997</th>\n",
       "      <td>To começando a sentir dor de novo e meu irmão ...</td>\n",
       "      <td>0</td>\n",
       "    </tr>\n",
       "    <tr>\n",
       "      <th>4998</th>\n",
       "      <td>@ichbintw parece que no dia que toma a vacina ...</td>\n",
       "      <td>0</td>\n",
       "    </tr>\n",
       "    <tr>\n",
       "      <th>4999</th>\n",
       "      <td>@nessagomesc @laymuniz23 poxaa acho q essa q v...</td>\n",
       "      <td>0</td>\n",
       "    </tr>\n",
       "  </tbody>\n",
       "</table>\n",
       "<p>5000 rows × 2 columns</p>\n",
       "</div>"
      ],
      "text/plain": [
       "                                             tweet_text  sentiment\n",
       "0                      @Gazo1a Nossa! Muito obrigada :)          1\n",
       "1                @BerzGamer vai pa puta que te pariu :)          1\n",
       "2     QUER MAIS DESCONTOS? (14/08) ⭐⭐⭐⭐⭐ 🌐 Confira n...          1\n",
       "3     EU VOU PEGAR VCS, ME AJUDEM GALERA, PELO AMOR ...          1\n",
       "4     Estávamos em casa do Zé e eu estava a morrer d...          1\n",
       "...                                                 ...        ...\n",
       "4995           @ol_cdanilo parece livro de autoajuda :(          0\n",
       "4996                 @tatazoquita aaaaa sinto muito :((          0\n",
       "4997  To começando a sentir dor de novo e meu irmão ...          0\n",
       "4998  @ichbintw parece que no dia que toma a vacina ...          0\n",
       "4999  @nessagomesc @laymuniz23 poxaa acho q essa q v...          0\n",
       "\n",
       "[5000 rows x 2 columns]"
      ]
     },
     "execution_count": 124,
     "metadata": {},
     "output_type": "execute_result"
    }
   ],
   "source": [
    "df_base_test = pd.read_csv('../Bases de dados/Test.csv',sep=';')\n",
    "df_base_test.columns = df_base_test.columns.str.strip()\n",
    "df_base_test.drop(columns=['id','tweet_date','query_used'],axis=1, inplace=True)\n",
    "df_base_test"
   ]
  },
  {
   "cell_type": "code",
   "execution_count": 125,
   "metadata": {},
   "outputs": [
    {
     "data": {
      "text/html": [
       "<div>\n",
       "<style scoped>\n",
       "    .dataframe tbody tr th:only-of-type {\n",
       "        vertical-align: middle;\n",
       "    }\n",
       "\n",
       "    .dataframe tbody tr th {\n",
       "        vertical-align: top;\n",
       "    }\n",
       "\n",
       "    .dataframe thead th {\n",
       "        text-align: right;\n",
       "    }\n",
       "</style>\n",
       "<table border=\"1\" class=\"dataframe\">\n",
       "  <thead>\n",
       "    <tr style=\"text-align: right;\">\n",
       "      <th></th>\n",
       "      <th>tweet_text</th>\n",
       "      <th>sentiment</th>\n",
       "    </tr>\n",
       "  </thead>\n",
       "  <tbody>\n",
       "    <tr>\n",
       "      <th>0</th>\n",
       "      <td>emocaopositiva</td>\n",
       "      <td>1</td>\n",
       "    </tr>\n",
       "    <tr>\n",
       "      <th>1</th>\n",
       "      <td>pa puta pariu emocaopositiva</td>\n",
       "      <td>1</td>\n",
       "    </tr>\n",
       "    <tr>\n",
       "      <th>2</th>\n",
       "      <td>desconto 14/08 ⭐ ⭐ ⭐ ⭐ ⭐ 🌐 confira link ➔ » co...</td>\n",
       "      <td>1</td>\n",
       "    </tr>\n",
       "    <tr>\n",
       "      <th>3</th>\n",
       "      <td>vou vcs I ajudem galera amor butera emocaoposi...</td>\n",
       "      <td>1</td>\n",
       "    </tr>\n",
       "    <tr>\n",
       "      <th>4</th>\n",
       "      <td>estávamos casa zé morrer sono chego casa fico ...</td>\n",
       "      <td>1</td>\n",
       "    </tr>\n",
       "    <tr>\n",
       "      <th>...</th>\n",
       "      <td>...</td>\n",
       "      <td>...</td>\n",
       "    </tr>\n",
       "    <tr>\n",
       "      <th>4995</th>\n",
       "      <td>livro autoajuda emocaonegativa</td>\n",
       "      <td>0</td>\n",
       "    </tr>\n",
       "    <tr>\n",
       "      <th>4996</th>\n",
       "      <td>aaaaa sinto emocaonegativa</td>\n",
       "      <td>0</td>\n",
       "    </tr>\n",
       "    <tr>\n",
       "      <th>4997</th>\n",
       "      <td>to começando sentir dor irmão sumiu remédio em...</td>\n",
       "      <td>0</td>\n",
       "    </tr>\n",
       "    <tr>\n",
       "      <th>4998</th>\n",
       "      <td>dia toma vacina n beber emocaonegativa</td>\n",
       "      <td>0</td>\n",
       "    </tr>\n",
       "    <tr>\n",
       "      <th>4999</th>\n",
       "      <td>poxaa acho q q vc ta falando q adiaram p dia...</td>\n",
       "      <td>0</td>\n",
       "    </tr>\n",
       "  </tbody>\n",
       "</table>\n",
       "<p>5000 rows × 2 columns</p>\n",
       "</div>"
      ],
      "text/plain": [
       "                                             tweet_text  sentiment\n",
       "0                                        emocaopositiva          1\n",
       "1                          pa puta pariu emocaopositiva          1\n",
       "2     desconto 14/08 ⭐ ⭐ ⭐ ⭐ ⭐ 🌐 confira link ➔ » co...          1\n",
       "3     vou vcs I ajudem galera amor butera emocaoposi...          1\n",
       "4     estávamos casa zé morrer sono chego casa fico ...          1\n",
       "...                                                 ...        ...\n",
       "4995                     livro autoajuda emocaonegativa          0\n",
       "4996                         aaaaa sinto emocaonegativa          0\n",
       "4997  to começando sentir dor irmão sumiu remédio em...          0\n",
       "4998             dia toma vacina n beber emocaonegativa          0\n",
       "4999    poxaa acho q q vc ta falando q adiaram p dia...          0\n",
       "\n",
       "[5000 rows x 2 columns]"
      ]
     },
     "execution_count": 125,
     "metadata": {},
     "output_type": "execute_result"
    }
   ],
   "source": [
    "df_base_test['tweet_text'] = df_base_test['tweet_text'].apply(preprocessing)\n",
    "df_base_test"
   ]
  },
  {
   "cell_type": "code",
   "execution_count": null,
   "metadata": {},
   "outputs": [],
   "source": [
    "list_new_data=[]\n",
    "for t,e in zip(df_base_test['tweet_text'],df_base_test['sentiment']):\n",
    "        if e == 1:\n",
    "            dic = {'POSITIVO':True, 'NEGATIVO':False}\n",
    "        else:\n",
    "            dic = {'POSITIVO':False, 'NEGATIVO':True}\n",
    "        list_new_data.append([t,dic.copy()])"
   ]
  },
  {
   "cell_type": "code",
   "execution_count": 126,
   "metadata": {},
   "outputs": [],
   "source": [
    "predictions = []\n",
    "for texto in df_base_test:\n",
    "  prediction = model(texto)\n",
    "  predictions.append(prediction.cats)"
   ]
  },
  {
   "cell_type": "code",
   "execution_count": 127,
   "metadata": {},
   "outputs": [],
   "source": [
    "final_predictions = []\n",
    "for prediction in predictions:\n",
    "  if prediction['POSITIVO'] > prediction['NEGATIVO']:\n",
    "    final_predictions.append(1)\n",
    "  else:\n",
    "    final_predictions.append(0)\n",
    "\n",
    "final_predictions = np.array(final_predictions)"
   ]
  },
  {
   "cell_type": "code",
   "execution_count": 131,
   "metadata": {},
   "outputs": [
    {
     "ename": "ValueError",
     "evalue": "Found input variables with inconsistent numbers of samples: [5000, 2]",
     "output_type": "error",
     "traceback": [
      "\u001b[1;31m---------------------------------------------------------------------------\u001b[0m",
      "\u001b[1;31mValueError\u001b[0m                                Traceback (most recent call last)",
      "Cell \u001b[1;32mIn[131], line 1\u001b[0m\n\u001b[1;32m----> 1\u001b[0m \u001b[43maccuracy_score\u001b[49m\u001b[43m(\u001b[49m\u001b[43mdf_base_test\u001b[49m\u001b[43m[\u001b[49m\u001b[38;5;124;43m'\u001b[39;49m\u001b[38;5;124;43msentiment\u001b[39;49m\u001b[38;5;124;43m'\u001b[39;49m\u001b[43m]\u001b[49m\u001b[43m,\u001b[49m\u001b[43mfinal_predictions\u001b[49m\u001b[43m)\u001b[49m\n",
      "File \u001b[1;32mc:\\Users\\mbern\\OneDrive\\CourseMachineLearning\\CourseMachineLearning\\.venv\\Lib\\site-packages\\sklearn\\utils\\_param_validation.py:213\u001b[0m, in \u001b[0;36mvalidate_params.<locals>.decorator.<locals>.wrapper\u001b[1;34m(*args, **kwargs)\u001b[0m\n\u001b[0;32m    207\u001b[0m \u001b[38;5;28;01mtry\u001b[39;00m:\n\u001b[0;32m    208\u001b[0m     \u001b[38;5;28;01mwith\u001b[39;00m config_context(\n\u001b[0;32m    209\u001b[0m         skip_parameter_validation\u001b[38;5;241m=\u001b[39m(\n\u001b[0;32m    210\u001b[0m             prefer_skip_nested_validation \u001b[38;5;129;01mor\u001b[39;00m global_skip_validation\n\u001b[0;32m    211\u001b[0m         )\n\u001b[0;32m    212\u001b[0m     ):\n\u001b[1;32m--> 213\u001b[0m         \u001b[38;5;28;01mreturn\u001b[39;00m \u001b[43mfunc\u001b[49m\u001b[43m(\u001b[49m\u001b[38;5;241;43m*\u001b[39;49m\u001b[43margs\u001b[49m\u001b[43m,\u001b[49m\u001b[43m \u001b[49m\u001b[38;5;241;43m*\u001b[39;49m\u001b[38;5;241;43m*\u001b[39;49m\u001b[43mkwargs\u001b[49m\u001b[43m)\u001b[49m\n\u001b[0;32m    214\u001b[0m \u001b[38;5;28;01mexcept\u001b[39;00m InvalidParameterError \u001b[38;5;28;01mas\u001b[39;00m e:\n\u001b[0;32m    215\u001b[0m     \u001b[38;5;66;03m# When the function is just a wrapper around an estimator, we allow\u001b[39;00m\n\u001b[0;32m    216\u001b[0m     \u001b[38;5;66;03m# the function to delegate validation to the estimator, but we replace\u001b[39;00m\n\u001b[0;32m    217\u001b[0m     \u001b[38;5;66;03m# the name of the estimator by the name of the function in the error\u001b[39;00m\n\u001b[0;32m    218\u001b[0m     \u001b[38;5;66;03m# message to avoid confusion.\u001b[39;00m\n\u001b[0;32m    219\u001b[0m     msg \u001b[38;5;241m=\u001b[39m re\u001b[38;5;241m.\u001b[39msub(\n\u001b[0;32m    220\u001b[0m         \u001b[38;5;124mr\u001b[39m\u001b[38;5;124m\"\u001b[39m\u001b[38;5;124mparameter of \u001b[39m\u001b[38;5;124m\\\u001b[39m\u001b[38;5;124mw+ must be\u001b[39m\u001b[38;5;124m\"\u001b[39m,\n\u001b[0;32m    221\u001b[0m         \u001b[38;5;124mf\u001b[39m\u001b[38;5;124m\"\u001b[39m\u001b[38;5;124mparameter of \u001b[39m\u001b[38;5;132;01m{\u001b[39;00mfunc\u001b[38;5;241m.\u001b[39m\u001b[38;5;18m__qualname__\u001b[39m\u001b[38;5;132;01m}\u001b[39;00m\u001b[38;5;124m must be\u001b[39m\u001b[38;5;124m\"\u001b[39m,\n\u001b[0;32m    222\u001b[0m         \u001b[38;5;28mstr\u001b[39m(e),\n\u001b[0;32m    223\u001b[0m     )\n",
      "File \u001b[1;32mc:\\Users\\mbern\\OneDrive\\CourseMachineLearning\\CourseMachineLearning\\.venv\\Lib\\site-packages\\sklearn\\metrics\\_classification.py:231\u001b[0m, in \u001b[0;36maccuracy_score\u001b[1;34m(y_true, y_pred, normalize, sample_weight)\u001b[0m\n\u001b[0;32m    229\u001b[0m xp, _, device \u001b[38;5;241m=\u001b[39m get_namespace_and_device(y_true, y_pred, sample_weight)\n\u001b[0;32m    230\u001b[0m \u001b[38;5;66;03m# Compute accuracy for each possible representation\u001b[39;00m\n\u001b[1;32m--> 231\u001b[0m y_type, y_true, y_pred \u001b[38;5;241m=\u001b[39m \u001b[43m_check_targets\u001b[49m\u001b[43m(\u001b[49m\u001b[43my_true\u001b[49m\u001b[43m,\u001b[49m\u001b[43m \u001b[49m\u001b[43my_pred\u001b[49m\u001b[43m)\u001b[49m\n\u001b[0;32m    232\u001b[0m check_consistent_length(y_true, y_pred, sample_weight)\n\u001b[0;32m    233\u001b[0m \u001b[38;5;28;01mif\u001b[39;00m y_type\u001b[38;5;241m.\u001b[39mstartswith(\u001b[38;5;124m\"\u001b[39m\u001b[38;5;124mmultilabel\u001b[39m\u001b[38;5;124m\"\u001b[39m):\n",
      "File \u001b[1;32mc:\\Users\\mbern\\OneDrive\\CourseMachineLearning\\CourseMachineLearning\\.venv\\Lib\\site-packages\\sklearn\\metrics\\_classification.py:103\u001b[0m, in \u001b[0;36m_check_targets\u001b[1;34m(y_true, y_pred)\u001b[0m\n\u001b[0;32m     76\u001b[0m \u001b[38;5;250m\u001b[39m\u001b[38;5;124;03m\"\"\"Check that y_true and y_pred belong to the same classification task.\u001b[39;00m\n\u001b[0;32m     77\u001b[0m \n\u001b[0;32m     78\u001b[0m \u001b[38;5;124;03mThis converts multiclass or binary types to a common shape, and raises a\u001b[39;00m\n\u001b[1;32m   (...)\u001b[0m\n\u001b[0;32m    100\u001b[0m \u001b[38;5;124;03my_pred : array or indicator matrix\u001b[39;00m\n\u001b[0;32m    101\u001b[0m \u001b[38;5;124;03m\"\"\"\u001b[39;00m\n\u001b[0;32m    102\u001b[0m xp, _ \u001b[38;5;241m=\u001b[39m get_namespace(y_true, y_pred)\n\u001b[1;32m--> 103\u001b[0m \u001b[43mcheck_consistent_length\u001b[49m\u001b[43m(\u001b[49m\u001b[43my_true\u001b[49m\u001b[43m,\u001b[49m\u001b[43m \u001b[49m\u001b[43my_pred\u001b[49m\u001b[43m)\u001b[49m\n\u001b[0;32m    104\u001b[0m type_true \u001b[38;5;241m=\u001b[39m type_of_target(y_true, input_name\u001b[38;5;241m=\u001b[39m\u001b[38;5;124m\"\u001b[39m\u001b[38;5;124my_true\u001b[39m\u001b[38;5;124m\"\u001b[39m)\n\u001b[0;32m    105\u001b[0m type_pred \u001b[38;5;241m=\u001b[39m type_of_target(y_pred, input_name\u001b[38;5;241m=\u001b[39m\u001b[38;5;124m\"\u001b[39m\u001b[38;5;124my_pred\u001b[39m\u001b[38;5;124m\"\u001b[39m)\n",
      "File \u001b[1;32mc:\\Users\\mbern\\OneDrive\\CourseMachineLearning\\CourseMachineLearning\\.venv\\Lib\\site-packages\\sklearn\\utils\\validation.py:457\u001b[0m, in \u001b[0;36mcheck_consistent_length\u001b[1;34m(*arrays)\u001b[0m\n\u001b[0;32m    455\u001b[0m uniques \u001b[38;5;241m=\u001b[39m np\u001b[38;5;241m.\u001b[39munique(lengths)\n\u001b[0;32m    456\u001b[0m \u001b[38;5;28;01mif\u001b[39;00m \u001b[38;5;28mlen\u001b[39m(uniques) \u001b[38;5;241m>\u001b[39m \u001b[38;5;241m1\u001b[39m:\n\u001b[1;32m--> 457\u001b[0m     \u001b[38;5;28;01mraise\u001b[39;00m \u001b[38;5;167;01mValueError\u001b[39;00m(\n\u001b[0;32m    458\u001b[0m         \u001b[38;5;124m\"\u001b[39m\u001b[38;5;124mFound input variables with inconsistent numbers of samples: \u001b[39m\u001b[38;5;132;01m%r\u001b[39;00m\u001b[38;5;124m\"\u001b[39m\n\u001b[0;32m    459\u001b[0m         \u001b[38;5;241m%\u001b[39m [\u001b[38;5;28mint\u001b[39m(l) \u001b[38;5;28;01mfor\u001b[39;00m l \u001b[38;5;129;01min\u001b[39;00m lengths]\n\u001b[0;32m    460\u001b[0m     )\n",
      "\u001b[1;31mValueError\u001b[0m: Found input variables with inconsistent numbers of samples: [5000, 2]"
     ]
    }
   ],
   "source": [
    "accuracy_score(df_base_test['sentiment'],final_predictions)"
   ]
  },
  {
   "cell_type": "code",
   "execution_count": null,
   "metadata": {},
   "outputs": [],
   "source": []
  }
 ],
 "metadata": {
  "kernelspec": {
   "display_name": ".venv",
   "language": "python",
   "name": "python3"
  },
  "language_info": {
   "codemirror_mode": {
    "name": "ipython",
    "version": 3
   },
   "file_extension": ".py",
   "mimetype": "text/x-python",
   "name": "python",
   "nbconvert_exporter": "python",
   "pygments_lexer": "ipython3",
   "version": "3.12.6"
  }
 },
 "nbformat": 4,
 "nbformat_minor": 2
}
