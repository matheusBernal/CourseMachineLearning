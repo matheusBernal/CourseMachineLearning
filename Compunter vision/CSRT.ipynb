{
 "cells": [
  {
   "cell_type": "code",
   "execution_count": 1,
   "metadata": {},
   "outputs": [],
   "source": [
    "import cv2"
   ]
  },
  {
   "cell_type": "code",
   "execution_count": 2,
   "metadata": {},
   "outputs": [
    {
     "ename": "",
     "evalue": "",
     "output_type": "error",
     "traceback": [
      "\u001b[1;31mThe Kernel crashed while executing code in the current cell or a previous cell. \n",
      "\u001b[1;31mPlease review the code in the cell(s) to identify a possible cause of the failure. \n",
      "\u001b[1;31mClick <a href='https://aka.ms/vscodeJupyterKernelCrash'>here</a> for more info. \n",
      "\u001b[1;31mView Jupyter <a href='command:jupyter.viewOutput'>log</a> for further details."
     ]
    }
   ],
   "source": [
    "tracker = cv2.TrackerCSRT_create()\n",
    "video = cv2.VideoCapture('../Bases de dados/rua.mp4')\n",
    "check,frame = video.read()\n",
    "bbox = cv2.selectROI(frame)\n",
    "check = tracker.init(frame,bbox)\n",
    "while True:\n",
    "    check,frame = video.read()\n",
    "    if not check:\n",
    "        break\n",
    "    check,bbox = tracker.update(frame)\n",
    "    \n",
    "    if check:\n",
    "        (x,y,w,h) = [int(v) for v in bbox]\n",
    "        cv2.rectangle(frame,(x,y),(x+w,y+h),(0,255,0),2,1)\n",
    "    else:\n",
    "        cv2.putText(frame,'Falha no rastreamento',(100,80),cv2.FONT_HERSHEY_SIMPLEX,.75,(0,0,255),2)\n",
    "    \n",
    "    cv2.imshow('Rastreando',frame)\n",
    "\n",
    "    if cv2.waitKey(1) & 0xFF ==27:\n",
    "        break"
   ]
  },
  {
   "cell_type": "code",
   "execution_count": null,
   "metadata": {},
   "outputs": [],
   "source": []
  }
 ],
 "metadata": {
  "kernelspec": {
   "display_name": ".venv",
   "language": "python",
   "name": "python3"
  },
  "language_info": {
   "codemirror_mode": {
    "name": "ipython",
    "version": 3
   },
   "file_extension": ".py",
   "mimetype": "text/x-python",
   "name": "python",
   "nbconvert_exporter": "python",
   "pygments_lexer": "ipython3",
   "version": "3.12.6"
  }
 },
 "nbformat": 4,
 "nbformat_minor": 2
}
